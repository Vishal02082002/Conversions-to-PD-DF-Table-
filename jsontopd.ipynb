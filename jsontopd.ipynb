{
 "cells": [
  {
   "cell_type": "code",
   "execution_count": 88,
   "metadata": {},
   "outputs": [],
   "source": [
    "import pandas as pd"
   ]
  },
  {
   "cell_type": "code",
   "execution_count": 89,
   "metadata": {},
   "outputs": [],
   "source": [
    "import json"
   ]
  },
  {
   "cell_type": "code",
   "execution_count": 90,
   "metadata": {},
   "outputs": [],
   "source": [
    "from datetime import datetime"
   ]
  },
  {
   "cell_type": "code",
   "execution_count": 91,
   "metadata": {},
   "outputs": [],
   "source": [
    "import requests\n"
   ]
  },
  {
   "cell_type": "code",
   "execution_count": 92,
   "metadata": {},
   "outputs": [],
   "source": [
    "from dateutil.parser import parse as date_parse\n"
   ]
  },
  {
   "cell_type": "code",
   "execution_count": 93,
   "metadata": {},
   "outputs": [],
   "source": [
    "# GitHub raw content link to the JSON file\n",
    "url = 'https://github.com/Vishal02082002/Conversions-to-PD-DF-Table-/blob/main/Sample_data.json'\n"
   ]
  },
  {
   "cell_type": "code",
   "execution_count": 94,
   "metadata": {},
   "outputs": [
    {
     "name": "stdout",
     "output_type": "stream",
     "text": [
      "The JSON file is successfully loaded.\n"
     ]
    }
   ],
   "source": [
    "response = requests.get(url)\n",
    "if response.status_code == 200:\n",
    "    print(\"The JSON file is successfully loaded.\")\n",
    "    content = response.content.decode('utf-8')\n",
    "else:\n",
    "    print(f\"Failed to load JSON file. Status code: {response.status_code}\")\n",
    "    exit(1)\n",
    "\n"
   ]
  },
  {
   "cell_type": "code",
   "execution_count": 95,
   "metadata": {},
   "outputs": [],
   "source": [
    "# Convert JSON data to a list of dictionaries if it's not already\n",
    "if isinstance(data, dict):\n",
    "    data = [data]"
   ]
  },
  {
   "cell_type": "code",
   "execution_count": 96,
   "metadata": {},
   "outputs": [
    {
     "data": {
      "text/plain": [
       "\"filtered_data = []\\nfor item in data:\\n    if 'modified_date' in item and 'in_compliance' in item and 'machine_sold_status' in item:\\n        try:\\n            modified_date = datetime.strptime(item['modified_date'], '%d-%m-%Y')\\n            in_compliance = str(item['in_compliance']).strip().lower() == 'true'\\n            machine_sold_status = str(item['machine_sold_status']).strip().lower() == 'sold'\\n            if modified_date > datetime.strptime('12-05-2024', '%d-%m-%Y') and in_compliance and machine_sold_status:\\n                filtered_data.append(item)\\n        except ValueError:\\n            # Handle the case where the date format is incorrect\\n            pass\""
      ]
     },
     "execution_count": 96,
     "metadata": {},
     "output_type": "execute_result"
    }
   ],
   "source": [
    "# Filter the data based on the conditions\n",
    "'''filtered_data = []\n",
    "for item in data:\n",
    "    if 'modified_date' in item and 'in_compliance' in item and 'machine_sold_status' in item:\n",
    "        try:\n",
    "            modified_date = datetime.strptime(item['modified_date'], '%d-%m-%Y')\n",
    "            in_compliance = str(item['in_compliance']).strip().lower() == 'true'\n",
    "            machine_sold_status = str(item['machine_sold_status']).strip().lower() == 'sold'\n",
    "            if modified_date > datetime.strptime('12-05-2024', '%d-%m-%Y') and in_compliance and machine_sold_status:\n",
    "                filtered_data.append(item)\n",
    "        except ValueError:\n",
    "            # Handle the case where the date format is incorrect\n",
    "            pass'''"
   ]
  },
  {
   "cell_type": "code",
   "execution_count": 97,
   "metadata": {},
   "outputs": [],
   "source": [
    "df = pd.DataFrame(data)"
   ]
  },
  {
   "cell_type": "code",
   "execution_count": 98,
   "metadata": {},
   "outputs": [
    {
     "data": {
      "text/html": [
       "<div>\n",
       "<style scoped>\n",
       "    .dataframe tbody tr th:only-of-type {\n",
       "        vertical-align: middle;\n",
       "    }\n",
       "\n",
       "    .dataframe tbody tr th {\n",
       "        vertical-align: top;\n",
       "    }\n",
       "\n",
       "    .dataframe thead th {\n",
       "        text-align: right;\n",
       "    }\n",
       "</style>\n",
       "<table border=\"1\" class=\"dataframe\">\n",
       "  <thead>\n",
       "    <tr style=\"text-align: right;\">\n",
       "      <th></th>\n",
       "      <th>Dealers_lot</th>\n",
       "      <th>dealer_id</th>\n",
       "      <th>in_compliance</th>\n",
       "      <th>machine_id</th>\n",
       "      <th>machine_sold_status</th>\n",
       "      <th>machine_status</th>\n",
       "      <th>model_no</th>\n",
       "      <th>modified_date</th>\n",
       "    </tr>\n",
       "  </thead>\n",
       "  <tbody>\n",
       "    <tr>\n",
       "      <th>0</th>\n",
       "      <td>True</td>\n",
       "      <td>1</td>\n",
       "      <td>False</td>\n",
       "      <td>11</td>\n",
       "      <td>Sold</td>\n",
       "      <td>Dealer Rental Fleet</td>\n",
       "      <td>644P</td>\n",
       "      <td>03-05-2024</td>\n",
       "    </tr>\n",
       "    <tr>\n",
       "      <th>1</th>\n",
       "      <td>True</td>\n",
       "      <td>2</td>\n",
       "      <td>True</td>\n",
       "      <td>13</td>\n",
       "      <td>Unsold</td>\n",
       "      <td>Dealer Presold</td>\n",
       "      <td>1775NT</td>\n",
       "      <td>04-05-2024</td>\n",
       "    </tr>\n",
       "    <tr>\n",
       "      <th>2</th>\n",
       "      <td>False</td>\n",
       "      <td>3</td>\n",
       "      <td>True</td>\n",
       "      <td>15</td>\n",
       "      <td>Sold</td>\n",
       "      <td>Stock</td>\n",
       "      <td>54H</td>\n",
       "      <td>05-05-2024</td>\n",
       "    </tr>\n",
       "    <tr>\n",
       "      <th>3</th>\n",
       "      <td>True</td>\n",
       "      <td>4</td>\n",
       "      <td>False</td>\n",
       "      <td>17</td>\n",
       "      <td>Unsold</td>\n",
       "      <td>Dealer Rental Fleet</td>\n",
       "      <td>5435T</td>\n",
       "      <td>06-05-2024</td>\n",
       "    </tr>\n",
       "    <tr>\n",
       "      <th>4</th>\n",
       "      <td>False</td>\n",
       "      <td>5</td>\n",
       "      <td>True</td>\n",
       "      <td>19</td>\n",
       "      <td>Sold</td>\n",
       "      <td>Dealer Presold</td>\n",
       "      <td>5434Y</td>\n",
       "      <td>07-05-2024</td>\n",
       "    </tr>\n",
       "    <tr>\n",
       "      <th>5</th>\n",
       "      <td>True</td>\n",
       "      <td>6</td>\n",
       "      <td>False</td>\n",
       "      <td>21</td>\n",
       "      <td>Sold</td>\n",
       "      <td>Dealer Rental Fleet</td>\n",
       "      <td>868J</td>\n",
       "      <td>08-05-2024</td>\n",
       "    </tr>\n",
       "    <tr>\n",
       "      <th>6</th>\n",
       "      <td>False</td>\n",
       "      <td>7</td>\n",
       "      <td>True</td>\n",
       "      <td>23</td>\n",
       "      <td>Unsold</td>\n",
       "      <td>Dealer Rental Fleet</td>\n",
       "      <td>234H</td>\n",
       "      <td>09-05-2024</td>\n",
       "    </tr>\n",
       "    <tr>\n",
       "      <th>7</th>\n",
       "      <td>True</td>\n",
       "      <td>8</td>\n",
       "      <td>True</td>\n",
       "      <td>25</td>\n",
       "      <td>Sold</td>\n",
       "      <td>Stock</td>\n",
       "      <td>85G</td>\n",
       "      <td>10-05-2024</td>\n",
       "    </tr>\n",
       "    <tr>\n",
       "      <th>8</th>\n",
       "      <td>True</td>\n",
       "      <td>9</td>\n",
       "      <td>False</td>\n",
       "      <td>27</td>\n",
       "      <td>Sold</td>\n",
       "      <td>Dealer Presold</td>\n",
       "      <td>334G</td>\n",
       "      <td>11-05-2024</td>\n",
       "    </tr>\n",
       "    <tr>\n",
       "      <th>9</th>\n",
       "      <td>True</td>\n",
       "      <td>10</td>\n",
       "      <td>False</td>\n",
       "      <td>29</td>\n",
       "      <td>Unsold</td>\n",
       "      <td>Dealer Presold</td>\n",
       "      <td>785VH</td>\n",
       "      <td>12-05-2024</td>\n",
       "    </tr>\n",
       "    <tr>\n",
       "      <th>10</th>\n",
       "      <td>False</td>\n",
       "      <td>11</td>\n",
       "      <td>True</td>\n",
       "      <td>31</td>\n",
       "      <td>Unsold</td>\n",
       "      <td>Dealer Rental Fleet</td>\n",
       "      <td>652HF</td>\n",
       "      <td>13-05-2024</td>\n",
       "    </tr>\n",
       "    <tr>\n",
       "      <th>11</th>\n",
       "      <td>True</td>\n",
       "      <td>12</td>\n",
       "      <td>False</td>\n",
       "      <td>33</td>\n",
       "      <td>Sold</td>\n",
       "      <td>Stock</td>\n",
       "      <td>2213GB</td>\n",
       "      <td>14-05-2024</td>\n",
       "    </tr>\n",
       "    <tr>\n",
       "      <th>12</th>\n",
       "      <td>True</td>\n",
       "      <td>13</td>\n",
       "      <td>True</td>\n",
       "      <td>35</td>\n",
       "      <td>Unsold</td>\n",
       "      <td>Dealer Rental Fleet</td>\n",
       "      <td>212C</td>\n",
       "      <td>15-05-2024</td>\n",
       "    </tr>\n",
       "    <tr>\n",
       "      <th>13</th>\n",
       "      <td>True</td>\n",
       "      <td>14</td>\n",
       "      <td>True</td>\n",
       "      <td>37</td>\n",
       "      <td>Unsold</td>\n",
       "      <td>Stock</td>\n",
       "      <td>87BJ</td>\n",
       "      <td>16-05-2024</td>\n",
       "    </tr>\n",
       "    <tr>\n",
       "      <th>14</th>\n",
       "      <td>False</td>\n",
       "      <td>15</td>\n",
       "      <td>True</td>\n",
       "      <td>39</td>\n",
       "      <td>Unsold</td>\n",
       "      <td>Dealer Presold</td>\n",
       "      <td>864BS</td>\n",
       "      <td>17-05-2024</td>\n",
       "    </tr>\n",
       "    <tr>\n",
       "      <th>15</th>\n",
       "      <td>True</td>\n",
       "      <td>16</td>\n",
       "      <td>False</td>\n",
       "      <td>41</td>\n",
       "      <td>Sold</td>\n",
       "      <td>Stock</td>\n",
       "      <td>256CF</td>\n",
       "      <td>18-05-2024</td>\n",
       "    </tr>\n",
       "    <tr>\n",
       "      <th>16</th>\n",
       "      <td>True</td>\n",
       "      <td>17</td>\n",
       "      <td>True</td>\n",
       "      <td>43</td>\n",
       "      <td>Sold</td>\n",
       "      <td>Dealer Rental Fleet</td>\n",
       "      <td>25V</td>\n",
       "      <td>19-05-2024</td>\n",
       "    </tr>\n",
       "    <tr>\n",
       "      <th>17</th>\n",
       "      <td>False</td>\n",
       "      <td>18</td>\n",
       "      <td>True</td>\n",
       "      <td>45</td>\n",
       "      <td>Unsold</td>\n",
       "      <td>Dealer Presold</td>\n",
       "      <td>97HH</td>\n",
       "      <td>20-05-2024</td>\n",
       "    </tr>\n",
       "    <tr>\n",
       "      <th>18</th>\n",
       "      <td>False</td>\n",
       "      <td>19</td>\n",
       "      <td>True</td>\n",
       "      <td>47</td>\n",
       "      <td>Sold</td>\n",
       "      <td>Dealer Presold</td>\n",
       "      <td>797JJ</td>\n",
       "      <td>21-05-2024</td>\n",
       "    </tr>\n",
       "    <tr>\n",
       "      <th>19</th>\n",
       "      <td>True</td>\n",
       "      <td>20</td>\n",
       "      <td>False</td>\n",
       "      <td>49</td>\n",
       "      <td>Unsold</td>\n",
       "      <td>Stock</td>\n",
       "      <td>64CX</td>\n",
       "      <td>22-05-2024</td>\n",
       "    </tr>\n",
       "  </tbody>\n",
       "</table>\n",
       "</div>"
      ],
      "text/plain": [
       "    Dealers_lot  dealer_id  in_compliance  machine_id machine_sold_status  \\\n",
       "0          True          1          False          11               Sold    \n",
       "1          True          2           True          13              Unsold   \n",
       "2         False          3           True          15               Sold    \n",
       "3          True          4          False          17              Unsold   \n",
       "4         False          5           True          19               Sold    \n",
       "5          True          6          False          21               Sold    \n",
       "6         False          7           True          23              Unsold   \n",
       "7          True          8           True          25               Sold    \n",
       "8          True          9          False          27               Sold    \n",
       "9          True         10          False          29              Unsold   \n",
       "10        False         11           True          31              Unsold   \n",
       "11         True         12          False          33               Sold    \n",
       "12         True         13           True          35              Unsold   \n",
       "13         True         14           True          37              Unsold   \n",
       "14        False         15           True          39              Unsold   \n",
       "15         True         16          False          41               Sold    \n",
       "16         True         17           True          43               Sold    \n",
       "17        False         18           True          45              Unsold   \n",
       "18        False         19           True          47               Sold    \n",
       "19         True         20          False          49              Unsold   \n",
       "\n",
       "         machine_status model_no modified_date  \n",
       "0   Dealer Rental Fleet     644P    03-05-2024  \n",
       "1        Dealer Presold   1775NT    04-05-2024  \n",
       "2                 Stock      54H    05-05-2024  \n",
       "3   Dealer Rental Fleet    5435T    06-05-2024  \n",
       "4        Dealer Presold    5434Y    07-05-2024  \n",
       "5   Dealer Rental Fleet     868J    08-05-2024  \n",
       "6   Dealer Rental Fleet     234H    09-05-2024  \n",
       "7                 Stock      85G    10-05-2024  \n",
       "8        Dealer Presold     334G    11-05-2024  \n",
       "9        Dealer Presold    785VH    12-05-2024  \n",
       "10  Dealer Rental Fleet    652HF    13-05-2024  \n",
       "11                Stock   2213GB    14-05-2024  \n",
       "12  Dealer Rental Fleet     212C    15-05-2024  \n",
       "13                Stock     87BJ    16-05-2024  \n",
       "14       Dealer Presold    864BS    17-05-2024  \n",
       "15                Stock    256CF    18-05-2024  \n",
       "16  Dealer Rental Fleet      25V    19-05-2024  \n",
       "17       Dealer Presold     97HH    20-05-2024  \n",
       "18       Dealer Presold    797JJ    21-05-2024  \n",
       "19                Stock     64CX    22-05-2024  "
      ]
     },
     "execution_count": 98,
     "metadata": {},
     "output_type": "execute_result"
    }
   ],
   "source": [
    "df"
   ]
  },
  {
   "cell_type": "code",
   "execution_count": 99,
   "metadata": {},
   "outputs": [
    {
     "name": "stdout",
     "output_type": "stream",
     "text": [
      "\n",
      "List of attributes:\n",
      "['Dealers_lot', 'dealer_id', 'in_compliance', 'machine_id', 'machine_sold_status', 'machine_status', 'model_no', 'modified_date']\n"
     ]
    }
   ],
   "source": [
    "# Get a list of attributes\n",
    "attributes = df.columns.tolist()\n",
    "print(\"\\nList of attributes:\")\n",
    "print(attributes)"
   ]
  },
  {
   "cell_type": "code",
   "execution_count": 100,
   "metadata": {},
   "outputs": [
    {
     "name": "stdout",
     "output_type": "stream",
     "text": [
      "\n",
      "Number of rows: 20\n",
      "Number of columns: 8\n"
     ]
    }
   ],
   "source": [
    "# Get the count of the number of rows and columns\n",
    "num_rows, num_columns = df.shape\n",
    "print(f\"\\nNumber of rows: {num_rows}\")\n",
    "print(f\"Number of columns: {num_columns}\")"
   ]
  },
  {
   "cell_type": "code",
   "execution_count": 101,
   "metadata": {},
   "outputs": [
    {
     "name": "stdout",
     "output_type": "stream",
     "text": [
      "\n",
      "Volume of data (total elements): 160\n"
     ]
    }
   ],
   "source": [
    "# Get the volume of data\n",
    "data_volume = df.size\n",
    "print(f\"\\nVolume of data (total elements): {data_volume}\")"
   ]
  },
  {
   "cell_type": "code",
   "execution_count": 102,
   "metadata": {},
   "outputs": [
    {
     "name": "stdout",
     "output_type": "stream",
     "text": [
      "\n",
      "Data types for all attributes:\n",
      "{'Dealers_lot': 'Number', 'dealer_id': 'Number', 'in_compliance': 'Number', 'machine_id': 'Number', 'machine_sold_status': 'Alphanumeric', 'machine_status': 'Alphanumeric', 'model_no': 'String', 'modified_date': 'Date'}\n"
     ]
    }
   ],
   "source": [
    "# Function to classify data types\n",
    "def classify_data_type(series):\n",
    "    try:\n",
    "        pd.to_numeric(series.dropna())\n",
    "        return 'Number'\n",
    "    except ValueError:\n",
    "        pass\n",
    "\n",
    "    try:\n",
    "        series.dropna().apply(date_parse)\n",
    "        return 'Date'\n",
    "    except (ValueError, TypeError):\n",
    "        pass\n",
    "\n",
    "    if series.dropna().str.contains('[^a-zA-Z0-9]').any():\n",
    "        return 'Alphanumeric'\n",
    "\n",
    "    return 'String'\n",
    "\n",
    "# Get the types of data for all the attributes\n",
    "data_type_classification = {col: classify_data_type(df[col]) for col in df.columns}\n",
    "print(\"\\nData types for all attributes:\")\n",
    "print(data_type_classification)"
   ]
  },
  {
   "cell_type": "code",
   "execution_count": null,
   "metadata": {},
   "outputs": [],
   "source": []
  },
  {
   "cell_type": "code",
   "execution_count": null,
   "metadata": {},
   "outputs": [],
   "source": []
  },
  {
   "cell_type": "code",
   "execution_count": null,
   "metadata": {},
   "outputs": [],
   "source": []
  }
 ],
 "metadata": {
  "kernelspec": {
   "display_name": "Python 3",
   "language": "python",
   "name": "python3"
  },
  "language_info": {
   "codemirror_mode": {
    "name": "ipython",
    "version": 3
   },
   "file_extension": ".py",
   "mimetype": "text/x-python",
   "name": "python",
   "nbconvert_exporter": "python",
   "pygments_lexer": "ipython3",
   "version": "3.10.11"
  }
 },
 "nbformat": 4,
 "nbformat_minor": 2
}
